{
  "nbformat": 4,
  "nbformat_minor": 0,
  "metadata": {
    "colab": {
      "provenance": [],
      "authorship_tag": "ABX9TyOu6167s2a4zHCdRH/yjMAf",
      "include_colab_link": true
    },
    "kernelspec": {
      "name": "python3",
      "display_name": "Python 3"
    },
    "language_info": {
      "name": "python"
    }
  },
  "cells": [
    {
      "cell_type": "markdown",
      "metadata": {
        "id": "view-in-github",
        "colab_type": "text"
      },
      "source": [
        "<a href=\"https://colab.research.google.com/github/rmbgatram/c-repo/blob/main/numpy_examples.ipynb\" target=\"_parent\"><img src=\"https://colab.research.google.com/assets/colab-badge.svg\" alt=\"Open In Colab\"/></a>"
      ]
    },
    {
      "cell_type": "markdown",
      "source": [
        "## **Numpy Examples**"
      ],
      "metadata": {
        "id": "XaEHFWCTnOUc"
      }
    },
    {
      "cell_type": "markdown",
      "source": [
        "**Creating 0D ndarray**"
      ],
      "metadata": {
        "id": "1lPWdtAHo4xK"
      }
    },
    {
      "cell_type": "code",
      "source": [
        "import numpy as np\n",
        "a = np.array(10)\n",
        "print('0D Array elements: ', a)\n",
        "print('Dimension of a: ', a.ndim)\n",
        "print('size of a: ', a.size)\n",
        "print(type(a))"
      ],
      "metadata": {
        "colab": {
          "base_uri": "https://localhost:8080/"
        },
        "id": "K-58JS45nRla",
        "outputId": "520b8670-d7e9-4e1d-ee4f-0c22b194fa8a"
      },
      "execution_count": null,
      "outputs": [
        {
          "output_type": "stream",
          "name": "stdout",
          "text": [
            "0D Array elements:  10\n",
            "Dimension of a:  0\n",
            "size of a:  1\n",
            "<class 'numpy.ndarray'>\n"
          ]
        }
      ]
    },
    {
      "cell_type": "markdown",
      "source": [
        "**Creating 1D ndarray & accessing individual elements**\n",
        "* a[index]\n",
        "* starting index is 0\n",
        "* -ve index gives elements from end"
      ],
      "metadata": {
        "id": "LKlQMV3Gpmv-"
      }
    },
    {
      "cell_type": "code",
      "source": [
        "import numpy as np\n",
        "# Creating array using list\n",
        "a = np.array([1, 2, 3, 4, 5]) \n",
        "# Creating array using tuple\n",
        "b = np.array((1, 2, 3, 4, 5, 6)) \n",
        "# Prints Dimesion of a and b\n",
        "print('Dimension of a: ', a.ndim)\n",
        "print('Dimension of b: ', b.ndim)\n",
        "# Prints size of a and b\n",
        "print('Size of a: ', a.size)\n",
        "print('Size of b: ', b.size)\n",
        "# Prints Elements of a and b\n",
        "print('1D Array Elements of a: ', a)\n",
        "print('1D Array Elements of b: ', b)\n",
        "# individual elements are accessed with index, index starts from 0\n",
        "# negative index to access elements from the end\n",
        "print('2nd Element of a: ', a[1]) \n",
        "print('3rd Element of b: ', b[2]) \n",
        "print('2nd Element of b from end: ', b[-2]) \n"
      ],
      "metadata": {
        "id": "Or0ZPJzYnjQI",
        "colab": {
          "base_uri": "https://localhost:8080/"
        },
        "outputId": "dcf8be98-afea-4590-8277-08f1ce5c5194"
      },
      "execution_count": null,
      "outputs": [
        {
          "output_type": "stream",
          "name": "stdout",
          "text": [
            "Dimension of a:  1\n",
            "Dimension of b:  1\n",
            "Size of a:  5\n",
            "Size of b:  6\n",
            "1D Array Elements of a:  [1 2 3 4 5]\n",
            "1D Array Elements of b:  [1 2 3 4 5 6]\n",
            "2nd Element of a:  2\n",
            "3rd Element of b:  3\n",
            "2nd Element of b from end:  5\n"
          ]
        }
      ]
    },
    {
      "cell_type": "markdown",
      "source": [
        "**Creating 2D ndarray & accessing individual elements**\n",
        "* a[rindex, cindex]\n",
        "* starting index is 0\n",
        "* -ve index gives elements from end"
      ],
      "metadata": {
        "id": "GJEIBUM-p-nD"
      }
    },
    {
      "cell_type": "code",
      "source": [
        "import numpy as np\n",
        "a = np.array([[1, 2, 3], [4, 5, 6]])\n",
        "print('Dimension of a: ', a.ndim)\n",
        "print('Size of a: ', a.size)\n",
        "print('2D Array Elements: ', a)\n",
        "print('a[1,1] Element: ', a[1,1])"
      ],
      "metadata": {
        "colab": {
          "base_uri": "https://localhost:8080/"
        },
        "id": "Y-x01GrKqamt",
        "outputId": "539bd8cd-a91d-4f72-aae3-1d6c7e2602c2"
      },
      "execution_count": null,
      "outputs": [
        {
          "output_type": "stream",
          "name": "stdout",
          "text": [
            "Dimension of a:  2\n",
            "Size of a:  6\n",
            "2D Array Elements:  [[1 2 3]\n",
            " [4 5 6]]\n",
            "a[1,1] Element:  5\n"
          ]
        }
      ]
    },
    {
      "cell_type": "markdown",
      "source": [
        "**Creating 3D ndarray & accessing individual elements**"
      ],
      "metadata": {
        "id": "QyQsK4Hgr2Sp"
      }
    },
    {
      "cell_type": "code",
      "source": [
        "import numpy as np\n",
        "a = np.array([[[1, 2, 3], [4, 5, 6]], [[1, 2, 3], [4, 5, 6]]])\n",
        "print('3D Array Elements: ', a)\n",
        "print('Dimension of a: ', a.ndim)\n",
        "# first index signifies which matrix, second index signifies which array and third index signifies which element.\n",
        "print('a[0,1,2] Element: ', a[0,1,2])"
      ],
      "metadata": {
        "colab": {
          "base_uri": "https://localhost:8080/"
        },
        "id": "9JLLcTi9snQQ",
        "outputId": "36859e1d-bb6f-4687-c2b5-70dae8a4715a"
      },
      "execution_count": null,
      "outputs": [
        {
          "output_type": "stream",
          "name": "stdout",
          "text": [
            "3D Array Elements:  [[[1 2 3]\n",
            "  [4 5 6]]\n",
            "\n",
            " [[1 2 3]\n",
            "  [4 5 6]]]\n",
            "Dimension of a:  3\n",
            "a[0,1,2] Element:  6\n"
          ]
        }
      ]
    },
    {
      "cell_type": "markdown",
      "source": [
        "**Array Slicing**\n",
        "\n",
        "\n",
        "*   a[start: end]\n",
        "*   a[start: end: step]\n",
        "* If we don't pass start its considered 0\n",
        "* If we don't pass end its considered length of array in that dimension\n",
        "* If we don't pass step its considered 1\n"
      ],
      "metadata": {
        "id": "c3jiivF74Nbq"
      }
    },
    {
      "cell_type": "code",
      "source": [
        "import numpy as np\n",
        "a = np.array([1, 2, 3, 4, 5, 6, 7, 8, 9, 10])\n",
        "print('Elements from 2 to 5: ', a[1:5])\n",
        "print('Elements from start to 4: ', a[:4])\n",
        "print('Elements from 2 to end: ', a[2:])\n",
        "print('Elements from start to end with step 2: ', a[::2])"
      ],
      "metadata": {
        "id": "BGKu47Zh4Ljn",
        "colab": {
          "base_uri": "https://localhost:8080/"
        },
        "outputId": "264ef012-22c1-4f08-d504-5bce34dcafbe"
      },
      "execution_count": 8,
      "outputs": [
        {
          "output_type": "stream",
          "name": "stdout",
          "text": [
            "Elements from 2 to 5:  [2 3 4 5]\n",
            "Elements from start to 4:  [1 2 3 4]\n",
            "Elements from 2 to end:  [ 3  4  5  6  7  8  9 10]\n",
            "Elements from start to end with step 2:  [1 3 5 7 9]\n"
          ]
        }
      ]
    },
    {
      "cell_type": "code",
      "source": [],
      "metadata": {
        "id": "RcJKGdka4KW-"
      },
      "execution_count": null,
      "outputs": []
    }
  ]
}